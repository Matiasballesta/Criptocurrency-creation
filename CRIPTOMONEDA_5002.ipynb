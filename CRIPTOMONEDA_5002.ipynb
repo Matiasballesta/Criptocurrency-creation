{
  "nbformat": 4,
  "nbformat_minor": 0,
  "metadata": {
    "colab": {
      "provenance": [],
      "toc_visible": true,
      "authorship_tag": "ABX9TyOCp0xyIWJDww61iVFX1Km/",
      "include_colab_link": true
    },
    "kernelspec": {
      "name": "python3",
      "display_name": "Python 3"
    },
    "language_info": {
      "name": "python"
    }
  },
  "cells": [
    {
      "cell_type": "markdown",
      "metadata": {
        "id": "view-in-github",
        "colab_type": "text"
      },
      "source": [
        "<a href=\"https://colab.research.google.com/github/Matiasballesta/Criptocurrency-creation/blob/main/CRIPTOMONEDA_5002.ipynb\" target=\"_parent\"><img src=\"https://colab.research.google.com/assets/colab-badge.svg\" alt=\"Open In Colab\"/></a>"
      ]
    },
    {
      "cell_type": "code",
      "execution_count": 1,
      "metadata": {
        "colab": {
          "base_uri": "https://localhost:8080/"
        },
        "id": "G3jXu4YEdQaQ",
        "outputId": "75b97962-2b3c-4fd4-8b47-c790e93140be"
      },
      "outputs": [
        {
          "output_type": "stream",
          "name": "stdout",
          "text": [
            "Looking in indexes: https://pypi.org/simple, https://us-python.pkg.dev/colab-wheels/public/simple/\n",
            "Collecting flask==1.1.2\n",
            "  Downloading Flask-1.1.2-py2.py3-none-any.whl (94 kB)\n",
            "\u001b[K     |████████████████████████████████| 94 kB 3.2 MB/s \n",
            "\u001b[?25hRequirement already satisfied: Jinja2>=2.10.1 in /usr/local/lib/python3.7/dist-packages (from flask==1.1.2) (2.11.3)\n",
            "Requirement already satisfied: Werkzeug>=0.15 in /usr/local/lib/python3.7/dist-packages (from flask==1.1.2) (1.0.1)\n",
            "Requirement already satisfied: itsdangerous>=0.24 in /usr/local/lib/python3.7/dist-packages (from flask==1.1.2) (1.1.0)\n",
            "Requirement already satisfied: click>=5.1 in /usr/local/lib/python3.7/dist-packages (from flask==1.1.2) (7.1.2)\n",
            "Requirement already satisfied: MarkupSafe>=0.23 in /usr/local/lib/python3.7/dist-packages (from Jinja2>=2.10.1->flask==1.1.2) (2.0.1)\n",
            "Installing collected packages: flask\n",
            "  Attempting uninstall: flask\n",
            "    Found existing installation: Flask 1.1.4\n",
            "    Uninstalling Flask-1.1.4:\n",
            "      Successfully uninstalled Flask-1.1.4\n",
            "Successfully installed flask-1.1.2\n"
          ]
        }
      ],
      "source": [
        "!pip install flask==1.1.2"
      ]
    },
    {
      "cell_type": "code",
      "source": [
        "!pip install requests==2.25.1"
      ],
      "metadata": {
        "colab": {
          "base_uri": "https://localhost:8080/"
        },
        "id": "FeD0uZnadyCr",
        "outputId": "f33de2c8-9ef6-4319-b147-e046d7077d0f"
      },
      "execution_count": 2,
      "outputs": [
        {
          "output_type": "stream",
          "name": "stdout",
          "text": [
            "Looking in indexes: https://pypi.org/simple, https://us-python.pkg.dev/colab-wheels/public/simple/\n",
            "Collecting requests==2.25.1\n",
            "  Downloading requests-2.25.1-py2.py3-none-any.whl (61 kB)\n",
            "\u001b[K     |████████████████████████████████| 61 kB 7.5 MB/s \n",
            "\u001b[?25hRequirement already satisfied: certifi>=2017.4.17 in /usr/local/lib/python3.7/dist-packages (from requests==2.25.1) (2022.6.15)\n",
            "Requirement already satisfied: chardet<5,>=3.0.2 in /usr/local/lib/python3.7/dist-packages (from requests==2.25.1) (3.0.4)\n",
            "Requirement already satisfied: idna<3,>=2.5 in /usr/local/lib/python3.7/dist-packages (from requests==2.25.1) (2.10)\n",
            "Requirement already satisfied: urllib3<1.27,>=1.21.1 in /usr/local/lib/python3.7/dist-packages (from requests==2.25.1) (1.24.3)\n",
            "Installing collected packages: requests\n",
            "  Attempting uninstall: requests\n",
            "    Found existing installation: requests 2.23.0\n",
            "    Uninstalling requests-2.23.0:\n",
            "      Successfully uninstalled requests-2.23.0\n",
            "Successfully installed requests-2.25.1\n"
          ]
        }
      ]
    },
    {
      "cell_type": "code",
      "source": [
        "!pip install flask-ngrok==0.0.25"
      ],
      "metadata": {
        "colab": {
          "base_uri": "https://localhost:8080/"
        },
        "id": "iMJHEsU6dzkc",
        "outputId": "cff1ebf1-0385-4c82-c51c-5a24cf27cc0a"
      },
      "execution_count": 3,
      "outputs": [
        {
          "output_type": "stream",
          "name": "stdout",
          "text": [
            "Looking in indexes: https://pypi.org/simple, https://us-python.pkg.dev/colab-wheels/public/simple/\n",
            "Collecting flask-ngrok==0.0.25\n",
            "  Downloading flask_ngrok-0.0.25-py3-none-any.whl (3.1 kB)\n",
            "Requirement already satisfied: requests in /usr/local/lib/python3.7/dist-packages (from flask-ngrok==0.0.25) (2.25.1)\n",
            "Requirement already satisfied: Flask>=0.8 in /usr/local/lib/python3.7/dist-packages (from flask-ngrok==0.0.25) (1.1.2)\n",
            "Requirement already satisfied: Jinja2>=2.10.1 in /usr/local/lib/python3.7/dist-packages (from Flask>=0.8->flask-ngrok==0.0.25) (2.11.3)\n",
            "Requirement already satisfied: Werkzeug>=0.15 in /usr/local/lib/python3.7/dist-packages (from Flask>=0.8->flask-ngrok==0.0.25) (1.0.1)\n",
            "Requirement already satisfied: itsdangerous>=0.24 in /usr/local/lib/python3.7/dist-packages (from Flask>=0.8->flask-ngrok==0.0.25) (1.1.0)\n",
            "Requirement already satisfied: click>=5.1 in /usr/local/lib/python3.7/dist-packages (from Flask>=0.8->flask-ngrok==0.0.25) (7.1.2)\n",
            "Requirement already satisfied: MarkupSafe>=0.23 in /usr/local/lib/python3.7/dist-packages (from Jinja2>=2.10.1->Flask>=0.8->flask-ngrok==0.0.25) (2.0.1)\n",
            "Requirement already satisfied: chardet<5,>=3.0.2 in /usr/local/lib/python3.7/dist-packages (from requests->flask-ngrok==0.0.25) (3.0.4)\n",
            "Requirement already satisfied: urllib3<1.27,>=1.21.1 in /usr/local/lib/python3.7/dist-packages (from requests->flask-ngrok==0.0.25) (1.24.3)\n",
            "Requirement already satisfied: idna<3,>=2.5 in /usr/local/lib/python3.7/dist-packages (from requests->flask-ngrok==0.0.25) (2.10)\n",
            "Requirement already satisfied: certifi>=2017.4.17 in /usr/local/lib/python3.7/dist-packages (from requests->flask-ngrok==0.0.25) (2022.6.15)\n",
            "Installing collected packages: flask-ngrok\n",
            "Successfully installed flask-ngrok-0.0.25\n"
          ]
        }
      ]
    },
    {
      "cell_type": "code",
      "source": [
        "# Importación de las librerías\n",
        "import datetime\n",
        "import hashlib\n",
        "import json\n",
        "import requests\n",
        "from uuid         import uuid4\n",
        "from flask        import Flask, jsonify, request\n",
        "from urllib.parse import urlparse\n",
        "from flask_ngrok  import run_with_ngrok"
      ],
      "metadata": {
        "id": "kjAE0NZQd44o"
      },
      "execution_count": 4,
      "outputs": []
    },
    {
      "cell_type": "code",
      "source": [
        "class Blockchain:\n",
        "    \n",
        "  def __init__(self):\n",
        "    \"\"\" Constructor de la clase. \"\"\"\n",
        "\n",
        "    self.chain = []\n",
        "    self.transactions = []\n",
        "    self.create_block(proof = 1, previous_hash = '0')\n",
        "    self.nodes = set()\n",
        "      \n",
        "  def create_block(self, proof, previous_hash):\n",
        "    \"\"\" Creación de un nuevo bloque. \n",
        "\n",
        "      Arguments:\n",
        "        - proof: Nounce del bloque actual.\n",
        "        - previous_hash: Hash del bloque previo.\n",
        "\n",
        "      Returns: \n",
        "        - block: Nuevo bloque creado. \n",
        "      \"\"\"\n",
        "\n",
        "    block = { 'index'         : len(self.chain)+1,\n",
        "              'timestamp'     : str(datetime.datetime.now()),\n",
        "              'proof'         : proof,\n",
        "              'previous_hash' : previous_hash,\n",
        "              'transactions'  : self.transactions}\n",
        "    self.transactions = []\n",
        "    self.chain.append(block)\n",
        "    return block\n",
        "\n",
        "  def get_previous_block(self):\n",
        "    \"\"\" Obtención del bloque previo de la Blockchain.\n",
        "    \n",
        "      Returns:\n",
        "        - Obtención del último bloque de la Blockchain. \"\"\"\n",
        "\n",
        "    return self.chain[-1]\n",
        "  \n",
        "  def proof_of_work(self, previous_proof):     \n",
        "    \"\"\" Protocolo de concenso Proof of Work (PoW).\n",
        "    \n",
        "      Arguments:\n",
        "        - previous_proof: Nounce del bloque previo.\n",
        "\n",
        "      Returns:\n",
        "        - new_proof: Devolución del nuevo nounce obtenido con PoW. \"\"\"\n",
        "\n",
        "    new_proof = 1\n",
        "    check_proof = False\n",
        "    while check_proof is False:\n",
        "        hash_operation = hashlib.sha256(str(new_proof**2 - previous_proof**2).encode()).hexdigest()\n",
        "        if hash_operation[:4] == '0000':\n",
        "            check_proof = True\n",
        "        else: \n",
        "            new_proof += 1\n",
        "    return new_proof\n",
        "  \n",
        "  def hash(self, block):\n",
        "    \"\"\" Cálculo del hash de un bloque.\n",
        "    \n",
        "    Arguments:\n",
        "        - block: Identifica a un bloque de la Blockchain.\n",
        "    \n",
        "    Returns:\n",
        "        - hash_block: Devuelve el hash del bloque \"\"\"\n",
        "\n",
        "    encoded_block = json.dumps(block, sort_keys = True).encode()\n",
        "    hash_block = hashlib.sha256(encoded_block).hexdigest()\n",
        "    return hash_block\n",
        "  \n",
        "  def is_chain_valid(self, chain):\n",
        "    \"\"\" Determina si la Blockchain es válida. \n",
        "    \n",
        "    Arguments:\n",
        "        - chain: Cadena de bloques que contiene toda la \n",
        "                  información de las transacciones.\n",
        "    \n",
        "    Returns:\n",
        "        - True/False: Devuelve un booleano en función de la validez de la \n",
        "                      Blockchain. (True = Válida, False = Inválida) \"\"\"\n",
        "                      \n",
        "    previous_block = chain[0]\n",
        "    block_index = 1\n",
        "    while block_index < len(chain):\n",
        "        block = chain[block_index]\n",
        "        if block['previous_hash'] != self.hash(previous_block):\n",
        "            return False\n",
        "        previous_proof = previous_block['proof']\n",
        "        proof = block['proof']\n",
        "        hash_operation = hashlib.sha256(str(proof**2 - previous_proof**2).encode()).hexdigest()\n",
        "        if hash_operation[:4] != '0000':\n",
        "            return False\n",
        "        previous_block = block\n",
        "        block_index += 1\n",
        "    return True\n",
        "  \n",
        "  def add_transaction(self, sender, receiver, amount):\n",
        "    \"\"\" Realización de una transacción.\n",
        "    \n",
        "    Arguments:\n",
        "        - sender: Persona que hace la transacción\n",
        "        - receiver: Persona que recibe la transacción\n",
        "        - amount: Cantidad de criptomonedas enviadas\n",
        "\n",
        "    Returns: \n",
        "        - Devolución del índice superior al último bloque\n",
        "    \"\"\"\n",
        "\n",
        "    self.transactions.append({'sender'  : sender,\n",
        "                              'receiver': receiver, \n",
        "                              'amount'  : amount})\n",
        "    previous_block = self.get_previous_block()\n",
        "    return previous_block['index'] + 1\n",
        "\n",
        "  def add_node(self, address):\n",
        "    \"\"\" Nuevo nodo en la Blockchain.\n",
        "    \n",
        "      Arguments:\n",
        "        - address: Dirección del nuevo nodo\n",
        "    \"\"\"\n",
        "\n",
        "    parsed_url = urlparse(address)\n",
        "    self.nodes.add(parsed_url.netloc)\n",
        "  \n",
        "  def replace_chain(self):\n",
        "    \"\"\" Remplazo de la cadena por la cadena más larga, \n",
        "    siempre y cuando sea válida. \"\"\"\n",
        "    \n",
        "    network = self.nodes\n",
        "    longest_chain = None\n",
        "    max_length = len(self.chain)\n",
        "    for node in network:\n",
        "        response = requests.get(f'http://{node}/get_chain')\n",
        "        if response.status_code == 200:\n",
        "            length = response.json()['length']\n",
        "            chain = response.json()['chain']\n",
        "            if length > max_length and self.is_chain_valid(chain):\n",
        "                max_length = length\n",
        "                longest_chain = chain\n",
        "    if longest_chain: \n",
        "        self.chain = longest_chain\n",
        "        return True\n",
        "    return False"
      ],
      "metadata": {
        "id": "Swak5hW2d89Z"
      },
      "execution_count": 5,
      "outputs": []
    },
    {
      "cell_type": "code",
      "source": [
        "# Minado de un Bloque de la Cadena\n",
        "\n",
        "# Crear una aplicación web\n",
        "app = Flask(__name__)\n",
        "run_with_ngrok(app)  \n",
        "\n",
        "# Si se obtiene un error 500, actualizar flask, reiniciar spyder y ejecutar la siguiente línea\n",
        "app.config['JSONIFY_PRETTYPRINT_REGULAR'] = False\n",
        "\n",
        "# Crear la dirección del nodo en el puerto 5000\n",
        "node_address = str(uuid4()).replace('-', '')\n",
        "\n",
        "# Crear una Blockchain\n",
        "blockchain = Blockchain()\n",
        "\n",
        "\n",
        "@app.route('/mine_block', methods=['GET'])\n",
        "def mine_block():\n",
        "  \"\"\" Minado de un nuevo bloque \"\"\" \n",
        "\n",
        "  previous_block = blockchain.get_previous_block()\n",
        "  previous_proof = previous_block['proof']\n",
        "  proof = blockchain.proof_of_work(previous_proof)\n",
        "  previous_hash = blockchain.hash(previous_block)\n",
        "  blockchain.add_transaction(sender = node_address, receiver = \"Nuria Merce\", amount = 10)\n",
        "  block = blockchain.create_block(proof, previous_hash)\n",
        "  response = {'message'       : '¡Enhorabuena, nuevo bloque minado!', \n",
        "              'index'         : block['index'],\n",
        "              'timestamp'     : block['timestamp'],\n",
        "              'proof'         : block['proof'],\n",
        "              'previous_hash' : block['previous_hash'],\n",
        "              'transactions'  : block['transactions']}\n",
        "  return jsonify(response), 200\n",
        "\n",
        "@app.route('/get_chain', methods=['GET'])\n",
        "def get_chain():\n",
        "  \"\"\" Obtención de la cadena de bloques al completo \"\"\"\n",
        "\n",
        "  response = {'chain'   : blockchain.chain, \n",
        "              'length'  : len(blockchain.chain)}\n",
        "  return jsonify(response), 200\n",
        "\n",
        "@app.route('/is_valid', methods = ['GET'])\n",
        "def is_valid():\n",
        "  \"\"\" Comprobación de si la cadena de bloques es válida \"\"\"\n",
        "\n",
        "  is_valid = blockchain.is_chain_valid(blockchain.chain)\n",
        "  if is_valid:\n",
        "      response = {'message' : 'Todo correcto. La cadena de bloques es válida.'}\n",
        "  else:\n",
        "      response = {'message' : 'UPS. La cadena de bloques NO es válida.'}\n",
        "  return jsonify(response), 200  \n",
        "\n",
        "@app.route('/add_transaction', methods = ['POST'])\n",
        "def add_transaction():\n",
        "  \"\"\" Añadir una nueva transacción a la cadena de bloques \"\"\"\n",
        "\n",
        "  json = request.get_json()\n",
        "  transaction_keys = ['sender', 'receiver', 'amount']\n",
        "  if not all(key in json for key in transaction_keys):\n",
        "      return 'Faltan algunos elementos de la transacción', 400\n",
        "  index = blockchain.add_transaction(json['sender'], json['receiver'], json['amount'])\n",
        "  response = {'message': f'La transacción será añadida al bloque {index}'}\n",
        "  return jsonify(response), 201\n",
        "    \n",
        "# Descentralización de la Cadena de Bloques\n",
        "\n",
        "# Conectar nuevos nodos\n",
        "@app.route('/connect_node', methods = ['POST'])\n",
        "def connect_node():\n",
        "  json = request.get_json()\n",
        "  nodes = json.get('nodes')\n",
        "  if nodes is None: \n",
        "      return 'No hay nodos para añadir', 400\n",
        "  for node in nodes:\n",
        "      blockchain.add_node(node)\n",
        "  response = {'message'     : 'Todos los nodos han sido conectados. La Blockchain de JoanCoins contiene ahora los nodos siguientes: ',\n",
        "              'total_nodes' : list(blockchain.nodes)}\n",
        "  return jsonify(response), 201\n",
        "\n",
        "@app.route('/replace_chain', methods = ['GET'])\n",
        "def replace_chain():\n",
        "  \"\"\" Reemplazar la cadena por la más larga (si es necesario) \"\"\"\n",
        "\n",
        "  is_chain_replaced = blockchain.replace_chain()\n",
        "  if is_chain_replaced:\n",
        "      response = {'message' : 'Los nodos tenían diferentes cadenas, se ha remplazado por la Blockchain más larga.',\n",
        "                  'new_chain': blockchain.chain}\n",
        "  else:\n",
        "      response = {'message'       : 'Todo correcto. La Blockchain en todos los nodos ya es la más larga.',\n",
        "                  'actual_chain'  : blockchain.chain}\n",
        "  return jsonify(response), 200"
      ],
      "metadata": {
        "id": "CkjPuOrJd_fx"
      },
      "execution_count": 6,
      "outputs": []
    },
    {
      "cell_type": "code",
      "source": [
        "# Ejecución de la app con Google Colab\n",
        "app.run()\n",
        "\n",
        "# Ejecución externa a Google colab\n",
        "#app.run(host = '0.0.0.0', port = 5002)"
      ],
      "metadata": {
        "colab": {
          "base_uri": "https://localhost:8080/"
        },
        "id": "YSClHdLieA6H",
        "outputId": "44df8054-37f8-4bd7-ba05-be005d941f8a"
      },
      "execution_count": 7,
      "outputs": [
        {
          "output_type": "stream",
          "name": "stdout",
          "text": [
            " * Serving Flask app \"__main__\" (lazy loading)\n",
            " * Environment: production\n",
            "\u001b[31m   WARNING: This is a development server. Do not use it in a production deployment.\u001b[0m\n",
            "\u001b[2m   Use a production WSGI server instead.\u001b[0m\n",
            " * Debug mode: off\n"
          ]
        },
        {
          "output_type": "stream",
          "name": "stderr",
          "text": [
            "INFO:werkzeug: * Running on http://127.0.0.1:5000/ (Press CTRL+C to quit)\n"
          ]
        },
        {
          "output_type": "stream",
          "name": "stdout",
          "text": [
            " * Running on http://ca7f-35-245-98-142.ngrok.io\n",
            " * Traffic stats available on http://127.0.0.1:4040\n"
          ]
        },
        {
          "output_type": "stream",
          "name": "stderr",
          "text": [
            "INFO:werkzeug:127.0.0.1 - - [21/Sep/2022 14:36:10] \"\u001b[37mGET /get_chain HTTP/1.1\u001b[0m\" 200 -\n",
            "INFO:werkzeug:127.0.0.1 - - [21/Sep/2022 14:44:03] \"\u001b[37mGET /replace_chain HTTP/1.1\u001b[0m\" 200 -\n",
            "INFO:werkzeug:127.0.0.1 - - [21/Sep/2022 14:44:17] \"\u001b[37mGET /get_chain HTTP/1.1\u001b[0m\" 200 -\n",
            "INFO:werkzeug:127.0.0.1 - - [21/Sep/2022 14:45:24] \"\u001b[37mGET /get_chain HTTP/1.1\u001b[0m\" 200 -\n",
            "INFO:werkzeug:127.0.0.1 - - [21/Sep/2022 14:47:39] \"\u001b[37mPOST /connect_node HTTP/1.1\u001b[0m\" 201 -\n",
            "INFO:werkzeug:127.0.0.1 - - [21/Sep/2022 14:48:01] \"\u001b[37mGET /get_chain HTTP/1.1\u001b[0m\" 200 -\n",
            "INFO:werkzeug:127.0.0.1 - - [21/Sep/2022 14:48:09] \"\u001b[37mGET /replace_chain HTTP/1.1\u001b[0m\" 200 -\n",
            "INFO:werkzeug:127.0.0.1 - - [21/Sep/2022 14:48:28] \"\u001b[37mGET /get_chain HTTP/1.1\u001b[0m\" 200 -\n",
            "INFO:werkzeug:127.0.0.1 - - [21/Sep/2022 14:49:00] \"\u001b[37mGET /get_chain HTTP/1.1\u001b[0m\" 200 -\n"
          ]
        }
      ]
    }
  ]
}